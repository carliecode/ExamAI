{
 "cells": [
  {
   "cell_type": "code",
   "execution_count": null,
   "metadata": {},
   "outputs": [
    {
     "name": "stdout",
     "output_type": "stream",
     "text": [
      "I lv Pythn\n",
      "MSD sys I lv crckt nd tnns t\n",
      "I wll nt rpt mstks\n"
     ]
    }
   ],
   "source": [
    "def strip_vowels(sentence) -> str :\n",
    "    \n",
    "    vowels = ['a','e','i','o','u']\n",
    "    new_sentence = ''\n",
    "    \n",
    "    try:        \n",
    "        for c in sentence:\n",
    "            if c in vowels: continue\n",
    "            new_sentence = new_sentence + c\n",
    "        \n",
    "        return new_sentence\n",
    "    except Exception as e:\n",
    "        raise e\n",
    "    \n",
    "\n",
    "if __name__ == '__main__':\n",
    "    print(strip_vowels('I love Python'))\n",
    "    print(strip_vowels('MSD says I love cricket and tennis too'))\n",
    "    print(strip_vowels('I will not repeat mistakes'))\n",
    "\n"
   ]
  }
 ],
 "metadata": {
  "kernelspec": {
   "display_name": "base",
   "language": "python",
   "name": "python3"
  },
  "language_info": {
   "codemirror_mode": {
    "name": "ipython",
    "version": 3
   },
   "file_extension": ".py",
   "mimetype": "text/x-python",
   "name": "python",
   "nbconvert_exporter": "python",
   "pygments_lexer": "ipython3",
   "version": "3.9.12"
  }
 },
 "nbformat": 4,
 "nbformat_minor": 2
}
