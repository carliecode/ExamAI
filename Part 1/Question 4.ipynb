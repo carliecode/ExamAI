{
 "cells": [
  {
   "cell_type": "code",
   "execution_count": 5,
   "metadata": {},
   "outputs": [
    {
     "name": "stdout",
     "output_type": "stream",
     "text": [
      "lohel\n"
     ]
    }
   ],
   "source": [
    "def left_rotate_string(input_text) -> str:\n",
    "    try:\n",
    "        left = input_text[:3]\n",
    "        right = input_text[3:]\n",
    "        return right + left\n",
    "    except Exception as e:\n",
    "        raise e\n",
    "\n",
    "if __name__ == '__main__':\n",
    "    print(left_rotate_string('hello'))"
   ]
  }
 ],
 "metadata": {
  "kernelspec": {
   "display_name": "base",
   "language": "python",
   "name": "python3"
  },
  "language_info": {
   "codemirror_mode": {
    "name": "ipython",
    "version": 3
   },
   "file_extension": ".py",
   "mimetype": "text/x-python",
   "name": "python",
   "nbconvert_exporter": "python",
   "pygments_lexer": "ipython3",
   "version": "3.9.12"
  }
 },
 "nbformat": 4,
 "nbformat_minor": 2
}
