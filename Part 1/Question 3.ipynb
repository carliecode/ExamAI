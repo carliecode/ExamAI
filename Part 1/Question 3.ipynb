{
 "cells": [
  {
   "cell_type": "code",
   "execution_count": 1,
   "metadata": {},
   "outputs": [
    {
     "name": "stdout",
     "output_type": "stream",
     "text": [
      "{'A': 4, 'B': 4, 'C': 8}\n",
      "{'A': 3, 'B': 1, 'C': 2}\n"
     ]
    }
   ],
   "source": [
    "def character_count(word) -> dict:\n",
    "    maps = dict()\n",
    "    try:\n",
    "        for c in word:\n",
    "            if c in maps:\n",
    "                maps[c] = maps[c] + 1\n",
    "            else:\n",
    "                maps[c] = 1\n",
    "        return maps\n",
    "    except Exception as e:\n",
    "        raise e   \n",
    "\n",
    "if __name__ == '__main__':\n",
    "    print(character_count('AAAABBBBCCCCCCCC'))\n",
    "    print(character_count('AABCCA'))\n"
   ]
  }
 ],
 "metadata": {
  "kernelspec": {
   "display_name": "base",
   "language": "python",
   "name": "python3"
  },
  "language_info": {
   "codemirror_mode": {
    "name": "ipython",
    "version": 3
   },
   "file_extension": ".py",
   "mimetype": "text/x-python",
   "name": "python",
   "nbconvert_exporter": "python",
   "pygments_lexer": "ipython3",
   "version": "3.9.12"
  }
 },
 "nbformat": 4,
 "nbformat_minor": 2
}
