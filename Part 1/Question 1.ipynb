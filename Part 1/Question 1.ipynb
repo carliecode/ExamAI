{
 "cells": [
  {
   "cell_type": "code",
   "execution_count": 1,
   "metadata": {},
   "outputs": [
    {
     "name": "stdout",
     "output_type": "stream",
     "text": [
      "industry proctoring in revolution bringing is ExamRoom.AI\n"
     ]
    }
   ],
   "source": [
    "def reverse_sentence(sentence) -> str :\n",
    "    try:\n",
    "        split_word = sentence.split(' ')\n",
    "        index = len(split_word) - 1\n",
    "        \n",
    "        new_sentence = ''\n",
    "        while index > - 1 :\n",
    "            new_sentence = new_sentence + split_word[index] + ' '\n",
    "            index = index - 1\n",
    "\n",
    "        return str.strip(new_sentence)\n",
    "    except Exception as e:\n",
    "        raise e\n",
    "    \n",
    "    \n",
    "if __name__ == '__main__':\n",
    "    print(reverse_sentence('ExamRoom.AI is bringing revolution in proctoring industry'))"
   ]
  }
 ],
 "metadata": {
  "kernelspec": {
   "display_name": "base",
   "language": "python",
   "name": "python3"
  },
  "language_info": {
   "codemirror_mode": {
    "name": "ipython",
    "version": 3
   },
   "file_extension": ".py",
   "mimetype": "text/x-python",
   "name": "python",
   "nbconvert_exporter": "python",
   "pygments_lexer": "ipython3",
   "version": "3.9.12"
  }
 },
 "nbformat": 4,
 "nbformat_minor": 2
}
